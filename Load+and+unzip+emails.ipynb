{
 "cells": [
  {
   "cell_type": "code",
   "execution_count": 2,
   "metadata": {},
   "outputs": [],
   "source": [
    "# this script loads emails tar.gz file and unpacks into approapriate directories structure"
   ]
  },
  {
   "cell_type": "code",
   "execution_count": null,
   "metadata": {
    "collapsed": true
   },
   "outputs": [],
   "source": [
    "# download emails\n",
    "from urllib import urlretrieve\n",
    "url='http://www.cs.cmu.edu/~./enron/enron_mail_20150507.tgz'\n",
    "dst='enron_mail_20150507.tgz'\n",
    "urlretrieve(url,dst)"
   ]
  },
  {
   "cell_type": "code",
   "execution_count": null,
   "metadata": {
    "collapsed": true
   },
   "outputs": [],
   "source": [
    "# extract file into directories structure\n",
    "import tarfile\n",
    "tar = tarfile.open(\"enron_mail_20150507fast.tgz\")\n",
    "tar.extractall(path=\"Enron2\")\n",
    "tar.close()"
   ]
  }
 ],
 "metadata": {
  "kernelspec": {
   "display_name": "Python 2",
   "language": "python",
   "name": "python2"
  },
  "language_info": {
   "codemirror_mode": {
    "name": "ipython",
    "version": 2
   },
   "file_extension": ".py",
   "mimetype": "text/x-python",
   "name": "python",
   "nbconvert_exporter": "python",
   "pygments_lexer": "ipython2",
   "version": "2.7.12"
  }
 },
 "nbformat": 4,
 "nbformat_minor": 2
}
